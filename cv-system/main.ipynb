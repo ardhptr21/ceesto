{
 "cells": [
  {
   "cell_type": "markdown",
   "metadata": {},
   "source": [
    "## Load Library"
   ]
  },
  {
   "cell_type": "code",
   "execution_count": 5,
   "metadata": {},
   "outputs": [],
   "source": [
    "import cv2 as cv\n",
    "import numpy as np\n",
    "from matplotlib import pyplot as plt\n",
    "import pytesseract\n",
    "from PIL import Image\n",
    "import re\n",
    "import imutils"
   ]
  },
  {
   "cell_type": "markdown",
   "metadata": {},
   "source": [
    "## Capturing Image / ID Card"
   ]
  },
  {
   "cell_type": "code",
   "execution_count": 6,
   "metadata": {},
   "outputs": [],
   "source": [
    "video = cv.VideoCapture(0)\n",
    "\n",
    "while 1:\n",
    "    _, frame = video.read()\n",
    "    gray = cv.cvtColor(frame, cv.COLOR_BGR2GRAY)\n",
    "    thresh = cv.threshold(gray, 127, 255, cv.THRESH_BINARY_INV | cv.THRESH_OTSU)[1]\n",
    "    norm = np.zeros((thresh.shape[0], thresh.shape[1]))\n",
    "    norm = cv.normalize(thresh, norm, 0, 255, cv.NORM_MINMAX)\n",
    "\n",
    "    cv.imshow('Video', frame)\n",
    "    cv.imshow('Scanning', norm)\n",
    "\n",
    "    key = cv.waitKey(1)\n",
    "\n",
    "    if key == 27:\n",
    "        break\n",
    "    elif key == 32:\n",
    "        cv.imwrite('id_card_image.jpg', norm)\n",
    "        break\n",
    "\n",
    "\n",
    "video.release()\n",
    "cv.destroyAllWindows()"
   ]
  },
  {
   "cell_type": "markdown",
   "metadata": {},
   "source": [
    "## Image capture preprocessing"
   ]
  },
  {
   "cell_type": "code",
   "execution_count": 7,
   "metadata": {},
   "outputs": [
    {
     "data": {
      "image/png": "[encoded data removed]",
      "text/plain": [
       "<Figure size 640x480 with 1 Axes>"
      ]
     },
     "metadata": {},
     "output_type": "display_data"
    }
   ],
   "source": [
    "# read image, and normalization\n",
    "id_card_image = cv.imread('id_card_image.jpg')\n",
    "\n",
    "# remove noise\n",
    "id_card_image = cv.fastNlMeansDenoisingColored(id_card_image, None, 10, 10, 7, 15)\n",
    "\n",
    "plt.imshow(id_card_image, cmap='gray')\n",
    "plt.show()"
   ]
  },
  {
   "cell_type": "code",
   "execution_count": 8,
   "metadata": {},
   "outputs": [
    {
     "name": "stdout",
     "output_type": "stream",
     "text": [
      "ID Card not recognized\n",
      "\n",
      "{'nama': '', 'nis': ''}\n"
     ]
    }
   ],
   "source": [
    "extraction = pytesseract.image_to_string(id_card_image, lang='ind')\n",
    "\n",
    "if 'SMK NEGERI 7 SEMARANG' not in extraction:\n",
    "    print('ID Card not recognized')\n",
    "    exit(1)\n",
    "\n",
    "data = {'nama': '', 'nis': ''}\n",
    "print(extraction)\n",
    "for item in extraction.split('\\n'):\n",
    "    if 'Nama' in item:\n",
    "        data['nama'] = re.sub(\"([\\s\\S])*:\", '', item).strip()\n",
    "    if 'NIS' in item:\n",
    "        data['nis'] = re.sub('\\/[\\s\\S]*', '', re.sub(\"([\\s\\S])*:\", '', item).strip())\n",
    "\n",
    "\n",
    "print(data)"
   ]
  }
 ],
 "metadata": {
  "kernelspec": {
   "display_name": "Python 3.10.5 ('venv': venv)",
   "language": "python",
   "name": "python3"
  },
  "language_info": {
   "codemirror_mode": {
    "name": "ipython",
    "version": 3
   },
   "file_extension": ".py",
   "mimetype": "text/x-python",
   "name": "python",
   "nbconvert_exporter": "python",
   "pygments_lexer": "ipython3",
   "version": "3.10.5"
  },
  "orig_nbformat": 4,
  "vscode": {
   "interpreter": {
    "hash": "e26b7be29f900052eaf473f264a3826467b704f47903badfd2c806808a30e52f"
   }
  }
 },
 "nbformat": 4,
 "nbformat_minor": 2
}
